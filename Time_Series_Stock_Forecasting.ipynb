{
 "cells": [
  {
   "cell_type": "markdown",
   "id": "9116ff47",
   "metadata": {},
   "source": [
    "\n",
    "# 📈 Time Series Stock Market Forecasting\n",
    "\n",
    "This notebook demonstrates how to collect, preprocess, visualize, and forecast stock market data using ARIMA, SARIMA, Prophet, and LSTM models.\n"
   ]
  },
  {
   "cell_type": "code",
   "execution_count": null,
   "id": "f42106ec",
   "metadata": {},
   "outputs": [],
   "source": [
    "\n",
    "import pandas as pd\n",
    "import numpy as np\n",
    "import yfinance as yf\n",
    "import matplotlib.pyplot as plt\n",
    "import seaborn as sns\n",
    "from statsmodels.tsa.arima.model import ARIMA\n",
    "from prophet import Prophet\n",
    "from sklearn.metrics import mean_squared_error, mean_absolute_error\n",
    "from keras.models import Sequential\n",
    "from keras.layers import LSTM, Dense, Dropout\n",
    "from sklearn.preprocessing import MinMaxScaler\n",
    "import warnings\n",
    "warnings.filterwarnings(\"ignore\")\n"
   ]
  },
  {
   "cell_type": "code",
   "execution_count": null,
   "id": "6f74333f",
   "metadata": {},
   "outputs": [],
   "source": [
    "\n",
    "# Download stock data from Yahoo Finance\n",
    "df = yf.download(\"AAPL\", start=\"2015-01-01\", end=\"2024-12-31\")\n",
    "df.to_csv(\"aapl.csv\", index_label=\"Date\")\n",
    "df.head()\n"
   ]
  },
  {
   "cell_type": "code",
   "execution_count": null,
   "id": "5e31f7bf",
   "metadata": {},
   "outputs": [],
   "source": [
    "\n",
    "# Load data and plot\n",
    "df = pd.read_csv(\"aapl.csv\", index_col=\"Date\", parse_dates=True)\n",
    "df['Close'].plot(figsize=(12, 6), title='AAPL Closing Price')\n",
    "plt.grid()\n",
    "plt.show()\n"
   ]
  },
  {
   "cell_type": "code",
   "execution_count": null,
   "id": "b9db0142",
   "metadata": {},
   "outputs": [],
   "source": [
    "\n",
    "# ARIMA model (simple example)\n",
    "model = ARIMA(df['Close'], order=(5,1,0))\n",
    "model_fit = model.fit()\n",
    "forecast_arima = model_fit.forecast(steps=30)\n",
    "forecast_arima.plot(title='ARIMA Forecast (Next 30 Days)', figsize=(12, 6))\n",
    "plt.grid()\n",
    "plt.show()\n"
   ]
  },
  {
   "cell_type": "code",
   "execution_count": null,
   "id": "a5378914",
   "metadata": {},
   "outputs": [],
   "source": [
    "\n",
    "# Prophet model\n",
    "df_prophet = df.reset_index()[['Date', 'Close']]\n",
    "df_prophet.columns = ['ds', 'y']\n",
    "m = Prophet()\n",
    "m.fit(df_prophet)\n",
    "future = m.make_future_dataframe(periods=30)\n",
    "forecast = m.predict(future)\n",
    "m.plot(forecast)\n",
    "plt.title(\"Prophet Forecast\")\n",
    "plt.show()\n"
   ]
  },
  {
   "cell_type": "code",
   "execution_count": null,
   "id": "9bc6a916",
   "metadata": {},
   "outputs": [],
   "source": [
    "\n",
    "# Example metrics (for demonstration, comparing ARIMA forecast)\n",
    "actual = df['Close'][-30:].values\n",
    "predicted = forecast_arima[:30].values\n",
    "\n",
    "rmse = np.sqrt(mean_squared_error(actual, predicted))\n",
    "mae = mean_absolute_error(actual, predicted)\n",
    "\n",
    "print(f\"RMSE: {rmse:.2f}, MAE: {mae:.2f}\")\n"
   ]
  }
 ],
 "metadata": {},
 "nbformat": 4,
 "nbformat_minor": 5
}
